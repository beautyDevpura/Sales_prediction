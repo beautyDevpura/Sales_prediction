{
  "nbformat": 4,
  "nbformat_minor": 0,
  "metadata": {
    "colab": {
      "name": "sales_prediction.ipynb",
      "provenance": [],
      "collapsed_sections": []
    },
    "kernelspec": {
      "name": "python3",
      "display_name": "Python 3"
    },
    "language_info": {
      "name": "python"
    }
  },
  "cells": [
    {
      "cell_type": "code",
      "metadata": {
        "colab": {
          "base_uri": "https://localhost:8080/"
        },
        "id": "8MV2UqKI5bSB",
        "outputId": "7fa9aa4e-bc76-4571-83d0-b230d4dd4fcb"
      },
      "source": [
        "from google.colab import drive\n",
        "drive.mount('/content/drive')\n"
      ],
      "execution_count": null,
      "outputs": [
        {
          "output_type": "stream",
          "text": [
            "Mounted at /content/drive\n"
          ],
          "name": "stdout"
        }
      ]
    },
    {
      "cell_type": "code",
      "metadata": {
        "id": "Qhu57A-kwPO3"
      },
      "source": [
        "import pandas as pd\n",
        "import numpy as np\n",
        "import matplotlib.pyplot as plt\n",
        "import seaborn as sns"
      ],
      "execution_count": null,
      "outputs": []
    },
    {
      "cell_type": "code",
      "metadata": {
        "colab": {
          "base_uri": "https://localhost:8080/",
          "height": 309
        },
        "id": "nlqr93g-vgly",
        "outputId": "b000c54f-8fdf-4fa2-b56b-36fbf4a0c7a5"
      },
      "source": [
        "datafile = '/content/drive/MyDrive/CodingDojo/Project1/ProjectDataSet_sales_predictions.csv'\n",
        "df = pd.read_csv(datafile)\n",
        "df.head()"
      ],
      "execution_count": null,
      "outputs": [
        {
          "output_type": "execute_result",
          "data": {
            "text/html": [
              "<div>\n",
              "<style scoped>\n",
              "    .dataframe tbody tr th:only-of-type {\n",
              "        vertical-align: middle;\n",
              "    }\n",
              "\n",
              "    .dataframe tbody tr th {\n",
              "        vertical-align: top;\n",
              "    }\n",
              "\n",
              "    .dataframe thead th {\n",
              "        text-align: right;\n",
              "    }\n",
              "</style>\n",
              "<table border=\"1\" class=\"dataframe\">\n",
              "  <thead>\n",
              "    <tr style=\"text-align: right;\">\n",
              "      <th></th>\n",
              "      <th>Item_Identifier</th>\n",
              "      <th>Item_Weight</th>\n",
              "      <th>Item_Fat_Content</th>\n",
              "      <th>Item_Visibility</th>\n",
              "      <th>Item_Type</th>\n",
              "      <th>Item_MRP</th>\n",
              "      <th>Outlet_Identifier</th>\n",
              "      <th>Outlet_Establishment_Year</th>\n",
              "      <th>Outlet_Size</th>\n",
              "      <th>Outlet_Location_Type</th>\n",
              "      <th>Outlet_Type</th>\n",
              "      <th>Item_Outlet_Sales</th>\n",
              "    </tr>\n",
              "  </thead>\n",
              "  <tbody>\n",
              "    <tr>\n",
              "      <th>0</th>\n",
              "      <td>FDA15</td>\n",
              "      <td>9.30</td>\n",
              "      <td>Low Fat</td>\n",
              "      <td>0.016047</td>\n",
              "      <td>Dairy</td>\n",
              "      <td>249.8092</td>\n",
              "      <td>OUT049</td>\n",
              "      <td>1999</td>\n",
              "      <td>Medium</td>\n",
              "      <td>Tier 1</td>\n",
              "      <td>Supermarket Type1</td>\n",
              "      <td>3735.1380</td>\n",
              "    </tr>\n",
              "    <tr>\n",
              "      <th>1</th>\n",
              "      <td>DRC01</td>\n",
              "      <td>5.92</td>\n",
              "      <td>Regular</td>\n",
              "      <td>0.019278</td>\n",
              "      <td>Soft Drinks</td>\n",
              "      <td>48.2692</td>\n",
              "      <td>OUT018</td>\n",
              "      <td>2009</td>\n",
              "      <td>Medium</td>\n",
              "      <td>Tier 3</td>\n",
              "      <td>Supermarket Type2</td>\n",
              "      <td>443.4228</td>\n",
              "    </tr>\n",
              "    <tr>\n",
              "      <th>2</th>\n",
              "      <td>FDN15</td>\n",
              "      <td>17.50</td>\n",
              "      <td>Low Fat</td>\n",
              "      <td>0.016760</td>\n",
              "      <td>Meat</td>\n",
              "      <td>141.6180</td>\n",
              "      <td>OUT049</td>\n",
              "      <td>1999</td>\n",
              "      <td>Medium</td>\n",
              "      <td>Tier 1</td>\n",
              "      <td>Supermarket Type1</td>\n",
              "      <td>2097.2700</td>\n",
              "    </tr>\n",
              "    <tr>\n",
              "      <th>3</th>\n",
              "      <td>FDX07</td>\n",
              "      <td>19.20</td>\n",
              "      <td>Regular</td>\n",
              "      <td>0.000000</td>\n",
              "      <td>Fruits and Vegetables</td>\n",
              "      <td>182.0950</td>\n",
              "      <td>OUT010</td>\n",
              "      <td>1998</td>\n",
              "      <td>NaN</td>\n",
              "      <td>Tier 3</td>\n",
              "      <td>Grocery Store</td>\n",
              "      <td>732.3800</td>\n",
              "    </tr>\n",
              "    <tr>\n",
              "      <th>4</th>\n",
              "      <td>NCD19</td>\n",
              "      <td>8.93</td>\n",
              "      <td>Low Fat</td>\n",
              "      <td>0.000000</td>\n",
              "      <td>Household</td>\n",
              "      <td>53.8614</td>\n",
              "      <td>OUT013</td>\n",
              "      <td>1987</td>\n",
              "      <td>High</td>\n",
              "      <td>Tier 3</td>\n",
              "      <td>Supermarket Type1</td>\n",
              "      <td>994.7052</td>\n",
              "    </tr>\n",
              "  </tbody>\n",
              "</table>\n",
              "</div>"
            ],
            "text/plain": [
              "  Item_Identifier  Item_Weight  ...        Outlet_Type  Item_Outlet_Sales\n",
              "0           FDA15         9.30  ...  Supermarket Type1          3735.1380\n",
              "1           DRC01         5.92  ...  Supermarket Type2           443.4228\n",
              "2           FDN15        17.50  ...  Supermarket Type1          2097.2700\n",
              "3           FDX07        19.20  ...      Grocery Store           732.3800\n",
              "4           NCD19         8.93  ...  Supermarket Type1           994.7052\n",
              "\n",
              "[5 rows x 12 columns]"
            ]
          },
          "metadata": {
            "tags": []
          },
          "execution_count": 8
        }
      ]
    },
    {
      "cell_type": "code",
      "metadata": {
        "colab": {
          "base_uri": "https://localhost:8080/"
        },
        "id": "fMvyYvrky-dw",
        "outputId": "1a8c04e0-2d29-4028-b6cc-7f23b081046e"
      },
      "source": [
        "df.info() # to check data type and which columns has Nan values, here Item_Weight and Outlet_Size columns have Nan values"
      ],
      "execution_count": null,
      "outputs": [
        {
          "output_type": "stream",
          "text": [
            "<class 'pandas.core.frame.DataFrame'>\n",
            "RangeIndex: 8523 entries, 0 to 8522\n",
            "Data columns (total 12 columns):\n",
            " #   Column                     Non-Null Count  Dtype  \n",
            "---  ------                     --------------  -----  \n",
            " 0   Item_Identifier            8523 non-null   object \n",
            " 1   Item_Weight                7060 non-null   float64\n",
            " 2   Item_Fat_Content           8523 non-null   object \n",
            " 3   Item_Visibility            8523 non-null   float64\n",
            " 4   Item_Type                  8523 non-null   object \n",
            " 5   Item_MRP                   8523 non-null   float64\n",
            " 6   Outlet_Identifier          8523 non-null   object \n",
            " 7   Outlet_Establishment_Year  8523 non-null   int64  \n",
            " 8   Outlet_Size                6113 non-null   object \n",
            " 9   Outlet_Location_Type       8523 non-null   object \n",
            " 10  Outlet_Type                8523 non-null   object \n",
            " 11  Item_Outlet_Sales          8523 non-null   float64\n",
            "dtypes: float64(4), int64(1), object(7)\n",
            "memory usage: 799.2+ KB\n"
          ],
          "name": "stdout"
        }
      ]
    },
    {
      "cell_type": "code",
      "metadata": {
        "colab": {
          "base_uri": "https://localhost:8080/"
        },
        "id": "8Vr4Ld8wxGzt",
        "outputId": "52ff3eb3-5422-4dae-d1e6-70b6417c33c6"
      },
      "source": [
        "df.duplicated().any() # to check for any duplicates"
      ],
      "execution_count": null,
      "outputs": [
        {
          "output_type": "execute_result",
          "data": {
            "text/plain": [
              "False"
            ]
          },
          "metadata": {
            "tags": []
          },
          "execution_count": 10
        }
      ]
    },
    {
      "cell_type": "code",
      "metadata": {
        "id": "cQajU05llQ22"
      },
      "source": [
        "#to locate Nan values in Item_Weight \n",
        "Nan_Values1 = pd.isnull(df['Item_Weight'])\n",
        "df[Nan_Values1].head()"
      ],
      "execution_count": null,
      "outputs": []
    },
    {
      "cell_type": "code",
      "metadata": {
        "colab": {
          "base_uri": "https://localhost:8080/"
        },
        "id": "rEZv5bVLNnxR",
        "outputId": "de82b8a3-03ab-4392-f6cc-b95fbfe606e9"
      },
      "source": [
        "Nan_Values1.value_counts() # to count Nan values in Item_Weight column"
      ],
      "execution_count": null,
      "outputs": [
        {
          "output_type": "execute_result",
          "data": {
            "text/plain": [
              "False    7060\n",
              "True     1463\n",
              "Name: Item_Weight, dtype: int64"
            ]
          },
          "metadata": {
            "tags": []
          },
          "execution_count": 16
        }
      ]
    },
    {
      "cell_type": "code",
      "metadata": {
        "id": "wggCKfVe4ktL"
      },
      "source": [
        "Nan_Values2 = pd.isnull(df['Outlet_Size']) #to locate Nan values in Outlet_Size column \n",
        "df[Nan_Values2].head()"
      ],
      "execution_count": null,
      "outputs": []
    },
    {
      "cell_type": "code",
      "metadata": {
        "colab": {
          "base_uri": "https://localhost:8080/"
        },
        "id": "SxCCjBczNucp",
        "outputId": "1087fdec-e001-40ce-a7dc-0d08653fac41"
      },
      "source": [
        "Nan_Values2.value_counts() # to count total Nan values in Outlet_Size column"
      ],
      "execution_count": null,
      "outputs": [
        {
          "output_type": "execute_result",
          "data": {
            "text/plain": [
              "False    6113\n",
              "True     2410\n",
              "Name: Outlet_Size, dtype: int64"
            ]
          },
          "metadata": {
            "tags": []
          },
          "execution_count": 18
        }
      ]
    },
    {
      "cell_type": "markdown",
      "metadata": {
        "id": "JC6WUrrdN_Q6"
      },
      "source": [
        "# More than thousand values are missing in both the columns\n",
        "# Since missing values are in very large number, filling missing values is better idea than dropping all of them "
      ]
    },
    {
      "cell_type": "code",
      "metadata": {
        "id": "BerKBND5JCGZ"
      },
      "source": [
        "#filling Nan values in all NON-Object columns which is Item_Weight for this Dataframe\n",
        "# We will use interpolate method to fill missing values for Item_Weight column \n",
        "# note that this method only works for int or floats\n",
        "New_df=df.interpolate(method ='linear', limit_direction ='forward')\n",
        "New_df.head(10)"
      ],
      "execution_count": null,
      "outputs": []
    },
    {
      "cell_type": "markdown",
      "metadata": {
        "id": "PoXzqmydpgXm"
      },
      "source": [
        "source: https://www.geeksforgeeks.org/working-with-missing-data-in-pandas/"
      ]
    },
    {
      "cell_type": "code",
      "metadata": {
        "colab": {
          "base_uri": "https://localhost:8080/"
        },
        "id": "D4f5swA0LW9X",
        "outputId": "416d70a2-aa5d-4f61-fb53-3f51c2d898a9"
      },
      "source": [
        "New_df.isna().sum() # Outlet_Size column still has Nan values"
      ],
      "execution_count": null,
      "outputs": [
        {
          "output_type": "execute_result",
          "data": {
            "text/plain": [
              "Item_Identifier                 0\n",
              "Item_Weight                     0\n",
              "Item_Fat_Content                0\n",
              "Item_Visibility                 0\n",
              "Item_Type                       0\n",
              "Item_MRP                        0\n",
              "Outlet_Identifier               0\n",
              "Outlet_Establishment_Year       0\n",
              "Outlet_Size                  2410\n",
              "Outlet_Location_Type            0\n",
              "Outlet_Type                     0\n",
              "Item_Outlet_Sales               0\n",
              "dtype: int64"
            ]
          },
          "metadata": {
            "tags": []
          },
          "execution_count": 20
        }
      ]
    },
    {
      "cell_type": "code",
      "metadata": {
        "id": "QL0G3cGjLh3g"
      },
      "source": [
        "#filling Nan values in Outlet_Size \n",
        "final_df = New_df.fillna(method ='pad')\n",
        "final_df"
      ],
      "execution_count": null,
      "outputs": []
    },
    {
      "cell_type": "code",
      "metadata": {
        "colab": {
          "base_uri": "https://localhost:8080/"
        },
        "id": "0arFtONiQt-i",
        "outputId": "2ad4d133-ab9c-401d-f513-3dadd6a52ef1"
      },
      "source": [
        "final_df.isna().sum() # No Nan values in new dataframe"
      ],
      "execution_count": null,
      "outputs": [
        {
          "output_type": "execute_result",
          "data": {
            "text/plain": [
              "Item_Identifier              0\n",
              "Item_Weight                  0\n",
              "Item_Fat_Content             0\n",
              "Item_Visibility              0\n",
              "Item_Type                    0\n",
              "Item_MRP                     0\n",
              "Outlet_Identifier            0\n",
              "Outlet_Establishment_Year    0\n",
              "Outlet_Size                  0\n",
              "Outlet_Location_Type         0\n",
              "Outlet_Type                  0\n",
              "Item_Outlet_Sales            0\n",
              "dtype: int64"
            ]
          },
          "metadata": {
            "tags": []
          },
          "execution_count": 22
        }
      ]
    },
    {
      "cell_type": "code",
      "metadata": {
        "colab": {
          "base_uri": "https://localhost:8080/"
        },
        "id": "lbRcLFLNQ3X_",
        "outputId": "a4900da2-928a-477e-8d3f-b18d0575c6c1"
      },
      "source": [
        "final_df.duplicated().any() #to check there is no duplicate rows after filling values"
      ],
      "execution_count": null,
      "outputs": [
        {
          "output_type": "execute_result",
          "data": {
            "text/plain": [
              "False"
            ]
          },
          "metadata": {
            "tags": []
          },
          "execution_count": 23
        }
      ]
    },
    {
      "cell_type": "code",
      "metadata": {
        "colab": {
          "base_uri": "https://localhost:8080/"
        },
        "id": "riQf3v62b3Qn",
        "outputId": "237d729d-ce86-4315-c28c-80a5a1a30b87"
      },
      "source": [
        "final_df['Item_Fat_Content'].value_counts() #to check string inconsistency in Object column"
      ],
      "execution_count": null,
      "outputs": [
        {
          "output_type": "execute_result",
          "data": {
            "text/plain": [
              "Low Fat    5089\n",
              "Regular    2889\n",
              "LF          316\n",
              "reg         117\n",
              "low fat     112\n",
              "Name: Item_Fat_Content, dtype: int64"
            ]
          },
          "metadata": {
            "tags": []
          },
          "execution_count": 24
        }
      ]
    },
    {
      "cell_type": "code",
      "metadata": {
        "id": "bgs9qY4icgzz"
      },
      "source": [
        "#to make all string consistent in the column Item Fat content\n",
        "final_df.loc[final_df['Item_Fat_Content'] == 'low fat', 'Item_Fat_Content'] = 'Low Fat'\n",
        "final_df.loc[final_df['Item_Fat_Content'] == 'LF', 'Item_Fat_Content'] = 'Low Fat'\n",
        "final_df.loc[final_df['Item_Fat_Content'] == 'reg', 'Item_Fat_Content'] = 'Regular'"
      ],
      "execution_count": null,
      "outputs": []
    },
    {
      "cell_type": "code",
      "metadata": {
        "colab": {
          "base_uri": "https://localhost:8080/",
          "height": 549
        },
        "id": "HT3txvzI7UPA",
        "outputId": "f1be6d0c-edaf-473b-a482-594eaba8cb3f"
      },
      "source": [
        "final_df.head(10)"
      ],
      "execution_count": null,
      "outputs": [
        {
          "output_type": "execute_result",
          "data": {
            "text/html": [
              "<div>\n",
              "<style scoped>\n",
              "    .dataframe tbody tr th:only-of-type {\n",
              "        vertical-align: middle;\n",
              "    }\n",
              "\n",
              "    .dataframe tbody tr th {\n",
              "        vertical-align: top;\n",
              "    }\n",
              "\n",
              "    .dataframe thead th {\n",
              "        text-align: right;\n",
              "    }\n",
              "</style>\n",
              "<table border=\"1\" class=\"dataframe\">\n",
              "  <thead>\n",
              "    <tr style=\"text-align: right;\">\n",
              "      <th></th>\n",
              "      <th>Item_Identifier</th>\n",
              "      <th>Item_Weight</th>\n",
              "      <th>Item_Fat_Content</th>\n",
              "      <th>Item_Visibility</th>\n",
              "      <th>Item_Type</th>\n",
              "      <th>Item_MRP</th>\n",
              "      <th>Outlet_Identifier</th>\n",
              "      <th>Outlet_Establishment_Year</th>\n",
              "      <th>Outlet_Size</th>\n",
              "      <th>Outlet_Location_Type</th>\n",
              "      <th>Outlet_Type</th>\n",
              "      <th>Item_Outlet_Sales</th>\n",
              "    </tr>\n",
              "  </thead>\n",
              "  <tbody>\n",
              "    <tr>\n",
              "      <th>0</th>\n",
              "      <td>FDA15</td>\n",
              "      <td>9.300</td>\n",
              "      <td>Low Fat</td>\n",
              "      <td>0.016047</td>\n",
              "      <td>Dairy</td>\n",
              "      <td>249.8092</td>\n",
              "      <td>OUT049</td>\n",
              "      <td>1999</td>\n",
              "      <td>Medium</td>\n",
              "      <td>Tier 1</td>\n",
              "      <td>Supermarket Type1</td>\n",
              "      <td>3735.1380</td>\n",
              "    </tr>\n",
              "    <tr>\n",
              "      <th>1</th>\n",
              "      <td>DRC01</td>\n",
              "      <td>5.920</td>\n",
              "      <td>Regular</td>\n",
              "      <td>0.019278</td>\n",
              "      <td>Soft Drinks</td>\n",
              "      <td>48.2692</td>\n",
              "      <td>OUT018</td>\n",
              "      <td>2009</td>\n",
              "      <td>Medium</td>\n",
              "      <td>Tier 3</td>\n",
              "      <td>Supermarket Type2</td>\n",
              "      <td>443.4228</td>\n",
              "    </tr>\n",
              "    <tr>\n",
              "      <th>2</th>\n",
              "      <td>FDN15</td>\n",
              "      <td>17.500</td>\n",
              "      <td>Low Fat</td>\n",
              "      <td>0.016760</td>\n",
              "      <td>Meat</td>\n",
              "      <td>141.6180</td>\n",
              "      <td>OUT049</td>\n",
              "      <td>1999</td>\n",
              "      <td>Medium</td>\n",
              "      <td>Tier 1</td>\n",
              "      <td>Supermarket Type1</td>\n",
              "      <td>2097.2700</td>\n",
              "    </tr>\n",
              "    <tr>\n",
              "      <th>3</th>\n",
              "      <td>FDX07</td>\n",
              "      <td>19.200</td>\n",
              "      <td>Regular</td>\n",
              "      <td>0.000000</td>\n",
              "      <td>Fruits and Vegetables</td>\n",
              "      <td>182.0950</td>\n",
              "      <td>OUT010</td>\n",
              "      <td>1998</td>\n",
              "      <td>Medium</td>\n",
              "      <td>Tier 3</td>\n",
              "      <td>Grocery Store</td>\n",
              "      <td>732.3800</td>\n",
              "    </tr>\n",
              "    <tr>\n",
              "      <th>4</th>\n",
              "      <td>NCD19</td>\n",
              "      <td>8.930</td>\n",
              "      <td>Low Fat</td>\n",
              "      <td>0.000000</td>\n",
              "      <td>Household</td>\n",
              "      <td>53.8614</td>\n",
              "      <td>OUT013</td>\n",
              "      <td>1987</td>\n",
              "      <td>High</td>\n",
              "      <td>Tier 3</td>\n",
              "      <td>Supermarket Type1</td>\n",
              "      <td>994.7052</td>\n",
              "    </tr>\n",
              "    <tr>\n",
              "      <th>5</th>\n",
              "      <td>FDP36</td>\n",
              "      <td>10.395</td>\n",
              "      <td>Regular</td>\n",
              "      <td>0.000000</td>\n",
              "      <td>Baking Goods</td>\n",
              "      <td>51.4008</td>\n",
              "      <td>OUT018</td>\n",
              "      <td>2009</td>\n",
              "      <td>Medium</td>\n",
              "      <td>Tier 3</td>\n",
              "      <td>Supermarket Type2</td>\n",
              "      <td>556.6088</td>\n",
              "    </tr>\n",
              "    <tr>\n",
              "      <th>6</th>\n",
              "      <td>FDO10</td>\n",
              "      <td>13.650</td>\n",
              "      <td>Regular</td>\n",
              "      <td>0.012741</td>\n",
              "      <td>Snack Foods</td>\n",
              "      <td>57.6588</td>\n",
              "      <td>OUT013</td>\n",
              "      <td>1987</td>\n",
              "      <td>High</td>\n",
              "      <td>Tier 3</td>\n",
              "      <td>Supermarket Type1</td>\n",
              "      <td>343.5528</td>\n",
              "    </tr>\n",
              "    <tr>\n",
              "      <th>7</th>\n",
              "      <td>FDP10</td>\n",
              "      <td>14.925</td>\n",
              "      <td>Low Fat</td>\n",
              "      <td>0.127470</td>\n",
              "      <td>Snack Foods</td>\n",
              "      <td>107.7622</td>\n",
              "      <td>OUT027</td>\n",
              "      <td>1985</td>\n",
              "      <td>Medium</td>\n",
              "      <td>Tier 3</td>\n",
              "      <td>Supermarket Type3</td>\n",
              "      <td>4022.7636</td>\n",
              "    </tr>\n",
              "    <tr>\n",
              "      <th>8</th>\n",
              "      <td>FDH17</td>\n",
              "      <td>16.200</td>\n",
              "      <td>Regular</td>\n",
              "      <td>0.016687</td>\n",
              "      <td>Frozen Foods</td>\n",
              "      <td>96.9726</td>\n",
              "      <td>OUT045</td>\n",
              "      <td>2002</td>\n",
              "      <td>Medium</td>\n",
              "      <td>Tier 2</td>\n",
              "      <td>Supermarket Type1</td>\n",
              "      <td>1076.5986</td>\n",
              "    </tr>\n",
              "    <tr>\n",
              "      <th>9</th>\n",
              "      <td>FDU28</td>\n",
              "      <td>19.200</td>\n",
              "      <td>Regular</td>\n",
              "      <td>0.094450</td>\n",
              "      <td>Frozen Foods</td>\n",
              "      <td>187.8214</td>\n",
              "      <td>OUT017</td>\n",
              "      <td>2007</td>\n",
              "      <td>Medium</td>\n",
              "      <td>Tier 2</td>\n",
              "      <td>Supermarket Type1</td>\n",
              "      <td>4710.5350</td>\n",
              "    </tr>\n",
              "  </tbody>\n",
              "</table>\n",
              "</div>"
            ],
            "text/plain": [
              "  Item_Identifier  Item_Weight  ...        Outlet_Type  Item_Outlet_Sales\n",
              "0           FDA15        9.300  ...  Supermarket Type1          3735.1380\n",
              "1           DRC01        5.920  ...  Supermarket Type2           443.4228\n",
              "2           FDN15       17.500  ...  Supermarket Type1          2097.2700\n",
              "3           FDX07       19.200  ...      Grocery Store           732.3800\n",
              "4           NCD19        8.930  ...  Supermarket Type1           994.7052\n",
              "5           FDP36       10.395  ...  Supermarket Type2           556.6088\n",
              "6           FDO10       13.650  ...  Supermarket Type1           343.5528\n",
              "7           FDP10       14.925  ...  Supermarket Type3          4022.7636\n",
              "8           FDH17       16.200  ...  Supermarket Type1          1076.5986\n",
              "9           FDU28       19.200  ...  Supermarket Type1          4710.5350\n",
              "\n",
              "[10 rows x 12 columns]"
            ]
          },
          "metadata": {
            "tags": []
          },
          "execution_count": 297
        }
      ]
    },
    {
      "cell_type": "code",
      "metadata": {
        "id": "fvTkKlmwdbGF"
      },
      "source": [
        "### Below commands used to check for any string inconsistency in respective \n",
        "###column value AND NO INCONSITETNCY OBSEVED IN ANY OBJECT COLUMN WRITTEN BELOW\n",
        "\n",
        "#final_df['Item_Type'].value_counts() \n",
        "#final_df['Outlet_Establishment_Year'].value_counts()\n",
        "#final_df['Outlet_Size'].value_counts()\n",
        "#final_df['Outlet_Location_Type'].value_counts()\n",
        "#final_df['Outlet_Type'].value_counts()"
      ],
      "execution_count": null,
      "outputs": []
    },
    {
      "cell_type": "code",
      "metadata": {
        "id": "afOQKAcqAitS",
        "colab": {
          "base_uri": "https://localhost:8080/",
          "height": 398
        },
        "outputId": "3a32993d-8122-4c9e-eab9-8f2ac6d2eb3e"
      },
      "source": [
        "#CALCULATING MEAN VALUE OF SALES AS OUTLET TYPE\n",
        "sale_type_groupby = final_df.groupby(['Outlet_Type'], as_index= False)['Item_Outlet_Sales'].mean()\n",
        "\n",
        "#plt.figure(figsize=(9,5))\n",
        "sns.set_theme(style='darkgrid', context='notebook');\n",
        "\n",
        "sns.barplot(x=sale_type_groupby['Outlet_Type'], \n",
        "            y=sale_type_groupby['Item_Outlet_Sales']);\n",
        "\n",
        "plt.xticks(rotation=90);\n",
        "\n",
        "plt.title(\"Average Sales as per Outlet types\", fontsize=13);"
      ],
      "execution_count": null,
      "outputs": [
        {
          "output_type": "display_data",
          "data": {
            "image/png": "[encoded data removed]",
            "text/plain": [
              "<Figure size 432x288 with 1 Axes>"
            ]
          },
          "metadata": {
            "tags": []
          }
        }
      ]
    },
    {
      "cell_type": "code",
      "metadata": {
        "colab": {
          "base_uri": "https://localhost:8080/"
        },
        "id": "y7yd6TnP2Q_5",
        "outputId": "b9d1a52d-8442-41c1-f0c7-bf5ce7aa98fd"
      },
      "source": [
        "final_df['Outlet_Type'].value_counts()"
      ],
      "execution_count": null,
      "outputs": [
        {
          "output_type": "execute_result",
          "data": {
            "text/plain": [
              "Supermarket Type1    5577\n",
              "Grocery Store        1083\n",
              "Supermarket Type3     935\n",
              "Supermarket Type2     928\n",
              "Name: Outlet_Type, dtype: int64"
            ]
          },
          "metadata": {
            "tags": []
          },
          "execution_count": 296
        }
      ]
    },
    {
      "cell_type": "code",
      "metadata": {
        "colab": {
          "base_uri": "https://localhost:8080/",
          "height": 301
        },
        "id": "83ddBt1rJTgF",
        "outputId": "c786327f-81dd-4bd6-94ae-41826f28a508"
      },
      "source": [
        "#CALCULATING MEAN VALUE OF SALES AS OUTLET SIZE\n",
        "sale_size_groupby = final_df.groupby(['Outlet_Size'], as_index= False)['Item_Outlet_Sales'].mean()\n",
        "\n",
        "sns.set_theme(style='darkgrid', context='notebook');\n",
        "\n",
        "sns.barplot(x=sale_size_groupby['Outlet_Size'], \n",
        "            y=sale_size_groupby['Item_Outlet_Sales'], \n",
        "            palette='Accent');\n",
        "\n",
        "plt.title(\"Average Sales as per Outlet Location Type\", \n",
        "              fontsize=13);"
      ],
      "execution_count": null,
      "outputs": [
        {
          "output_type": "display_data",
          "data": {
            "image/png": "[encoded data removed]",
            "text/plain": [
              "<Figure size 432x288 with 1 Axes>"
            ]
          },
          "metadata": {
            "tags": []
          }
        }
      ]
    },
    {
      "cell_type": "code",
      "metadata": {
        "colab": {
          "base_uri": "https://localhost:8080/",
          "height": 301
        },
        "id": "m_3n7p8OJVeX",
        "outputId": "f2200862-0ce1-4a18-ad24-124cd3b1bc90"
      },
      "source": [
        "#CALCULATING MEAN VALUE OF SALES AS OUTLET LOCATION\n",
        "sale_location_groupby = final_df.groupby(['Outlet_Location_Type'], as_index= False)['Item_Outlet_Sales'].mean()\n",
        "\n",
        "sns.set_theme(style='darkgrid', context='notebook');\n",
        "\n",
        "sns.barplot(x=sale_location_groupby['Outlet_Location_Type'], \n",
        "            y=sale_location_groupby['Item_Outlet_Sales'], \n",
        "            palette='Paired');\n",
        "\n",
        "plt.title(\"Average Sales as per Outlet Size\", \n",
        "              fontsize=13);"
      ],
      "execution_count": null,
      "outputs": [
        {
          "output_type": "display_data",
          "data": {
            "image/png": "[encoded data removed]",
            "text/plain": [
              "<Figure size 432x288 with 1 Axes>"
            ]
          },
          "metadata": {
            "tags": []
          }
        }
      ]
    },
    {
      "cell_type": "code",
      "metadata": {
        "colab": {
          "base_uri": "https://localhost:8080/",
          "height": 301
        },
        "id": "zdWQW7ZcPbO9",
        "outputId": "d1e2a965-abe5-4e88-df22-c642d2d60c10"
      },
      "source": [
        "sale_establishment_groupby = final_df.groupby(['Outlet_Establishment_Year'], as_index= False)['Item_Outlet_Sales'].mean()\n",
        "\n",
        "sns.set_theme(style='darkgrid', context='notebook');\n",
        "sns.barplot(x=sale_establishment_groupby['Outlet_Establishment_Year'],y=sale_establishment_groupby['Item_Outlet_Sales'],\n",
        "            palette='Dark2_r');\n",
        "plt.title(\"Average Sales as per Establishment Year of the store\", \n",
        "              fontsize=13);"
      ],
      "execution_count": null,
      "outputs": [
        {
          "output_type": "display_data",
          "data": {
            "image/png": "[encoded data removed]",
            "text/plain": [
              "<Figure size 432x288 with 1 Axes>"
            ]
          },
          "metadata": {
            "tags": []
          }
        }
      ]
    },
    {
      "cell_type": "markdown",
      "metadata": {
        "id": "fQ35MqkKSWIE"
      },
      "source": [
        "SO far Outlet related data have been observed"
      ]
    },
    {
      "cell_type": "markdown",
      "metadata": {
        "id": "7oh8xHvgSks8"
      },
      "source": [
        "Data related to item "
      ]
    },
    {
      "cell_type": "code",
      "metadata": {
        "colab": {
          "base_uri": "https://localhost:8080/",
          "height": 301
        },
        "id": "nOOdZNeRFnJU",
        "outputId": "0981b16e-c570-486f-d591-26c155c53d85"
      },
      "source": [
        "#CALCULATING MEAN VALUE OF SALES AS ITEM FAT CONTENT\n",
        "sale_fat_groupby = final_df.groupby(['Item_Fat_Content'], as_index= False)['Item_Outlet_Sales'].sum()\n",
        "\n",
        "#sns.set_theme(style='darkgrid', context='notebook'); CHECK Default theme\n",
        "sns.barplot(x=sale_fat_groupby['Item_Fat_Content'], \n",
        "            y=sale_fat_groupby['Item_Outlet_Sales'], \n",
        "            palette='deep');\n",
        "\n",
        "plt.title(\"Average Sales as per Fat Content\", \n",
        "              fontsize=13);"
      ],
      "execution_count": null,
      "outputs": [
        {
          "output_type": "display_data",
          "data": {
            "image/png": "[encoded data removed]",
            "text/plain": [
              "<Figure size 432x288 with 1 Axes>"
            ]
          },
          "metadata": {
            "tags": []
          }
        }
      ]
    },
    {
      "cell_type": "code",
      "metadata": {
        "id": "DfWKNbunZRxG"
      },
      "source": [
        "ItemType_groupby = final_df.groupby(['Item_Type'], as_index=False)['Item_Outlet_Sales'].sum().sort_values(by='Item_Outlet_Sales', ascending = False)"
      ],
      "execution_count": null,
      "outputs": []
    },
    {
      "cell_type": "code",
      "metadata": {
        "colab": {
          "base_uri": "https://localhost:8080/"
        },
        "id": "wNrcyKFgfLQq",
        "outputId": "ed290c97-39d2-456f-a110-99e8a927aeeb"
      },
      "source": [
        "maxItemtypesale = ItemType_groupby['Item_Outlet_Sales'].max()\n",
        "minItemtypesale = ItemType_groupby['Item_Outlet_Sales'].min()\n",
        "\n",
        "print(minItemtypesale)\n",
        "print(maxItemtypesale)"
      ],
      "execution_count": null,
      "outputs": [
        {
          "output_type": "stream",
          "text": [
            "148868.2194\n",
            "2820059.8168000015\n"
          ],
          "name": "stdout"
        }
      ]
    },
    {
      "cell_type": "code",
      "metadata": {
        "colab": {
          "base_uri": "https://localhost:8080/",
          "height": 301
        },
        "id": "Lfz-FQ-8auE7",
        "outputId": "3dafa7db-429b-4e92-f5fc-76cda927a5c8"
      },
      "source": [
        "#sns.set_theme(style='darkgrid', context='notebook'); CHECK Default theme\n",
        "sns.barplot(x=ItemType_groupby['Item_Outlet_Sales'], \n",
        "            y=ItemType_groupby['Item_Type'], \n",
        "            palette='rocket');\n",
        "#plt.ylim(0, 3000000)\n",
        "#plt.xticks(rotation=90);\n",
        "plt.title(\" Total Sales as per Item Type\", \n",
        "              fontsize=13);"
      ],
      "execution_count": null,
      "outputs": [
        {
          "output_type": "display_data",
          "data": {
            "image/png": "[encoded data removed]",
            "text/plain": [
              "<Figure size 432x288 with 1 Axes>"
            ]
          },
          "metadata": {
            "tags": []
          }
        }
      ]
    },
    {
      "cell_type": "markdown",
      "metadata": {
        "id": "TDvZ04sti7Br"
      },
      "source": [
        "Sales are more inclined to fruits and Vegetables and snack foods and less to seafood "
      ]
    },
    {
      "cell_type": "code",
      "metadata": {
        "id": "LHto5XIdpwJF"
      },
      "source": [
        "final_df.groupby(['Item_Type', 'Item_Identifier'],as_index=False)['Item_Outlet_Sales'].sum().sort_values(by='Item_Outlet_Sales', \n",
        "                                                                                         ascending = False).head(20)\n",
        "#pending work - provide Item type in graph over bars"
      ],
      "execution_count": null,
      "outputs": []
    },
    {
      "cell_type": "code",
      "metadata": {
        "colab": {
          "base_uri": "https://localhost:8080/",
          "height": 329
        },
        "id": "wt7BOffIbCvq",
        "outputId": "11ee1193-4cc7-4313-8532-523b91076750"
      },
      "source": [
        "ItemID_groupby = final_df.groupby(['Item_Identifier'], \n",
        "                                  as_index=False)['Item_Outlet_Sales'].sum().sort_values(by='Item_Outlet_Sales', \n",
        "                                                                                         ascending = False).head(20)\n",
        "\n",
        "sns.barplot(x=ItemID_groupby['Item_Identifier'], \n",
        "            y=ItemID_groupby['Item_Outlet_Sales'], \n",
        "            palette='Paired');\n",
        "\n",
        "plt.xticks(rotation=90);\n",
        "plt.title(\" Top 20 preferable Items with highest Sale\", \n",
        "              fontsize=13);"
      ],
      "execution_count": null,
      "outputs": [
        {
          "output_type": "display_data",
          "data": {
            "image/png": "[encoded data removed]",
            "text/plain": [
              "<Figure size 432x288 with 1 Axes>"
            ]
          },
          "metadata": {
            "tags": []
          }
        }
      ]
    },
    {
      "cell_type": "code",
      "metadata": {
        "id": "-NrcElf6oV36"
      },
      "source": [
        "ItemVis = final_df[['Item_Visibility', 'Item_Weight', 'Item_MRP', 'Item_Outlet_Sales']]\n"
      ],
      "execution_count": null,
      "outputs": []
    },
    {
      "cell_type": "code",
      "metadata": {
        "id": "VUks9KzfxFal"
      },
      "source": [
        "#sns.regplot(x=df[\"sepal_length\"], y=df[\"sepal_width\"], line_kws={\"color\":\"r\",\"alpha\":0.7,\"lw\":5})\n",
        "plt.show()"
      ],
      "execution_count": null,
      "outputs": []
    },
    {
      "cell_type": "code",
      "metadata": {
        "colab": {
          "base_uri": "https://localhost:8080/",
          "height": 362
        },
        "id": "lmgeI7MItd0h",
        "outputId": "1c991ae7-7eaf-40f2-d513-3bf3c425b9c9"
      },
      "source": [
        "corr_matrix=ItemVis.corr()\n",
        "sns.heatmap(corr_matrix, cmap='viridis')\n",
        "#ItemVis_norm_col=(ItemVis-ItemVis.mean())/ItemVis.std()\n",
        "#sns.heatmap(ItemVis_norm_col, cmap='viridis')\n",
        "plt.show()"
      ],
      "execution_count": null,
      "outputs": [
        {
          "output_type": "display_data",
          "data": {
            "image/png": "[encoded data removed]",
            "text/plain": [
              "<Figure size 432x288 with 2 Axes>"
            ]
          },
          "metadata": {
            "tags": []
          }
        }
      ]
    },
    {
      "cell_type": "code",
      "metadata": {
        "id": "Qw-Lxr9ioAdx"
      },
      "source": [
        "plt.figure(figsize=(8,4))\n",
        "\n",
        "# get correlation between values (this is peasons correlation if you are familiar)\n",
        "corr = sales.corr()\n",
        "# mask to get rid of top half\n",
        "mask = np.zeros_like(corr)\n",
        "mask[np.triu_indices_from(mask)] = True\n",
        "\n",
        "# with mask\n",
        "# sns.heatmap(corr, cmap='Blues', annot=True, mask=mask);\n",
        "\n",
        "# without mask\n",
        "sns.heatmap(corr, cmap='Blues', annot=True);"
      ],
      "execution_count": null,
      "outputs": []
    },
    {
      "cell_type": "code",
      "metadata": {
        "id": "4gfGrMy1Pa1b"
      },
      "source": [
        "#sns.set_theme(style='dark', context='notebook');\n",
        "#plt.figure(figsize=(14,8))\n",
        "#plt.subplot(2, 1, 1)\n",
        "#sns.barplot(x=sale_fat_groupby['Item_Fat_Content'], \n",
        "            #y=sale_fat_groupby['Item_Outlet_Sales'], \n",
        "            #palette='deep');\n",
        "#plt.subplot(2, 1, 2)\n",
        "#sns.barplot(sort_itemtype['Item_Type'], sort_itemtype['Item_Outlet_Sales'])\n",
        "\n",
        "#plt.xticks(rotation=45);\n"
      ],
      "execution_count": null,
      "outputs": []
    },
    {
      "cell_type": "code",
      "metadata": {
        "id": "J-FEyCIbinz8"
      },
      "source": [
        "\n",
        "#sns.set_theme(style='dark', context='notebook');\n",
        "\n",
        "#fig, ((ax1, ax2), (ax3, ax4)) = plt.subplots(nrows=2, ncols=2, figsize=(19,14), sharex=False);\n",
        "\n",
        "##sns.barplot(x=sale_type_groupby['Outlet_Type'], \n",
        "            #y=sale_type_groupby['Item_Outlet_Sales'], ax=ax1);\n",
        "\n",
        "#ax1.set_title(\"Average Sales as per Outlet types\", \n",
        "              #fontsize=13);\n",
        "\n",
        "#sns.barplot(x=sale_location_groupby['Outlet_Location_Type'], \n",
        "            #y=sale_location_groupby['Item_Outlet_Sales'], \n",
        "            #palette='Paired', ax=ax2);\n",
        "\n",
        "#ax2.set_title(\"Average Sales as per Outlet Size\", \n",
        "              #fontsize=13);\n",
        "\n",
        "#sns.barplot(final_df['Outlet_Establishment_Year'],\n",
        "            #final_df['Item_Outlet_Sales'], \n",
        "            #palette='deep', ax=ax3);\n",
        "\n",
        "#ax3.set_title(\"Average Sales as per Year of Establishment\", \n",
        "              #fontsize=13);\n",
        "\n",
        "#sns.barplot(x=sale_size_groupby['Outlet_Size'], \n",
        "            #y=sale_size_groupby['Item_Outlet_Sales'], \n",
        "            #palette='vlag', ax=ax4);\n",
        "\n",
        "#ax4.set_title(\"Sales as per Outlet Location Type\", \n",
        "              #fontsize=13);\n",
        "\n",
        "\n",
        "##ax1.set_ylim(bottom =0, top =4000)\n",
        "##ax1.set_yticks(fontsize = 15)\n",
        "##ax1.axhline(1, color='k', clip_on=True)\n",
        "##plt.setp(fig.axes, x=(''))\n",
        "\n",
        "#plt.tight_layout(h_pad=2)\n",
        "#plt.savefig('outletimpactonsales.png', dpi = 300);\n",
        "#sns.despine(bottom=True)\n",
        "#files.download(\"apparelexport.png\") #to download the png file"
      ],
      "execution_count": null,
      "outputs": []
    },
    {
      "cell_type": "code",
      "metadata": {
        "id": "sP_TW3k5xo3T"
      },
      "source": [
        "###This will be usefull to convert  datatype INto int/float in case of sciencific notation/exponential values \n",
        "#sale_type_groupby['Item_Outlet_Sales'] = sale_type_groupby['Item_Outlet_Sales'].apply(lambda s: format(s, 'f')).astype(float)"
      ],
      "execution_count": null,
      "outputs": []
    },
    {
      "cell_type": "code",
      "metadata": {
        "id": "xKeFwmwZEBe2"
      },
      "source": [
        "To print whole whole whole df... no hidden rows \n",
        "#pd.set_option('display.max_rows', None)"
      ],
      "execution_count": null,
      "outputs": []
    },
    {
      "cell_type": "code",
      "metadata": {
        "id": "WDGKd1-J0Czu",
        "colab": {
          "base_uri": "https://localhost:8080/"
        },
        "outputId": "39281541-3e36-45cb-87f3-367e0347d711"
      },
      "source": [
        "final_df['Outlet_Identifier'].value_counts() # its possible there can be multiple outlets with same id but has different outlet type or establishment year or size or zone"
      ],
      "execution_count": null,
      "outputs": [
        {
          "output_type": "execute_result",
          "data": {
            "text/plain": [
              "OUT027    935\n",
              "OUT013    932\n",
              "OUT049    930\n",
              "OUT046    930\n",
              "OUT035    930\n",
              "OUT045    929\n",
              "OUT018    928\n",
              "OUT017    926\n",
              "OUT010    555\n",
              "OUT019    528\n",
              "Name: Outlet_Identifier, dtype: int64"
            ]
          },
          "metadata": {
            "tags": []
          },
          "execution_count": 29
        }
      ]
    },
    {
      "cell_type": "code",
      "metadata": {
        "id": "lmgv-i5CzNx6",
        "colab": {
          "base_uri": "https://localhost:8080/"
        },
        "outputId": "42831513-4961-4c96-cb6f-9058c1db3609"
      },
      "source": [
        "final_df['Item_Identifier'].value_counts() # we know that there are total around 8500 rows in df ...this command will list number of unique item identifier "
      ],
      "execution_count": null,
      "outputs": [
        {
          "output_type": "execute_result",
          "data": {
            "text/plain": [
              "FDG33    10\n",
              "FDW13    10\n",
              "NCL31     9\n",
              "FDV38     9\n",
              "FDX20     9\n",
              "         ..\n",
              "FDC23     1\n",
              "FDN52     1\n",
              "DRF48     1\n",
              "FDE52     1\n",
              "FDO33     1\n",
              "Name: Item_Identifier, Length: 1559, dtype: int64"
            ]
          },
          "metadata": {
            "tags": []
          },
          "execution_count": 30
        }
      ]
    },
    {
      "cell_type": "code",
      "metadata": {
        "id": "4sjXDjmAhHJz"
      },
      "source": [
        "#sorting items by Highest sales\n",
        "final_df.sort_values(by='Item_Outlet_Sales', ascending=False).head(10)"
      ],
      "execution_count": null,
      "outputs": []
    },
    {
      "cell_type": "code",
      "metadata": {
        "id": "V1Kqzl9W8-eT"
      },
      "source": [
        ""
      ],
      "execution_count": null,
      "outputs": []
    }
  ]
}